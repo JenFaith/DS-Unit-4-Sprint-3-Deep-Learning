{
 "cells": [
  {
   "cell_type": "markdown",
   "metadata": {
    "id": "Ldr0HZ193GKb"
   },
   "source": [
    "Lambda School Data Science\n",
    "\n",
    "*Unit 4, Sprint 3, Module 1*\n",
    "\n",
    "---\n"
   ]
  },
  {
   "cell_type": "markdown",
   "metadata": {
    "id": "Et2y0gP7IM19"
   },
   "source": [
    "# Recurrent Neural Networks (RNNs) and Long Short Term Memory (LSTM) (Prepare)\n",
    "\n",
    "![](https://wiki.tum.de/download/attachments/22578349/GATES.gif?version=1&modificationDate=1486083227237&api=v2)"
   ]
  },
  {
   "cell_type": "markdown",
   "metadata": {
    "id": "-BOMScPtIM1-"
   },
   "source": [
    "## Learning Objectives\n",
    "- <a href=\"#p1\">Part 1: </a>Describe Neural Networks used for modeling sequences\n",
    "- <a href=\"#p2\">Part 2: </a>Apply a LSTM to a text generation problem using Keras"
   ]
  },
  {
   "cell_type": "markdown",
   "metadata": {
    "id": "_IizNKWLomoA"
   },
   "source": [
    "-----\n",
    "# Overview\n",
    "\n",
    "### Let's start with sequences \n",
    "\n",
    "A sequence is just any collection of numbers - order counts and repetition is allowed. \n",
    "\n",
    "Python lists are a good elemental example - `[1, 2, 2, -1]` is a valid list and is different from `[1, 2, -1, 2]`. \n",
    "\n",
    "What you might not be as familiar with are recusive numbers. For that, let's talk about a specific example, namely the **Fibonacci Sequence**.\n"
   ]
  },
  {
   "cell_type": "markdown",
   "metadata": {
    "id": "44QZgrPUe3-Y"
   },
   "source": [
    "# Neural Networks for Sequences (Learn)"
   ]
  },
  {
   "cell_type": "markdown",
   "metadata": {
    "id": "dX_WLYHrIM1_"
   },
   "source": [
    "\n",
    "\n",
    "Before we dive into the inner workings of an LSTM model, let's try to understand and appreciate the recusive relationships of numbers in both pure mathematics and in the physical reality in which we find ourselves embedded. \n",
    "\n",
    "\n",
    "As usually we take attempt to understand a concept from at least 3 different perspectives:\n",
    "- Algebraic\n",
    "- Geometric\n",
    "- Coding an example\n",
    "\n",
    "\n",
    "A [**recurrence relation**](https://en.wikipedia.org/wiki/Recurrence_relation) in math is an equation that uses recursion to define a sequence of numbers - a famous example is the Fibonacci numbers.\n",
    "\n",
    "Here is the algorithm for generating the numbers in the Fibonacci sequence: \n",
    "\n",
    "$$F_n = F_{n-1} + F_{n-2}$$\n",
    "\n",
    "You need a base case $F_0=1, F_1=1$ (i.e. a starting point) to get the sequence started and then from then on our the sequence is self-generating. \n",
    "\n",
    "So this means that we can start generating our sequence: \n",
    "\n",
    "$$F_0=1,~~  F_1=1 $$\n",
    "\n",
    "$$F_2 = F_{1} + F_{0} ~=~ 1 + 1 ~=~ 2$$\n",
    "\n",
    "Then\n",
    "\n",
    "$$F_3 = F_{2} + F_{1} ~=~ 2 + 1 ~=~ 3$$\n",
    "\n",
    "Then \n",
    "\n",
    "$$F_4 = F_{3} + F_{2} ~=~ 3 + 2 ~=~ 5$$\n",
    "\n",
    "Then \n",
    "\n",
    "$$F_5 = F_{4} + F_{3} ~=~ 5 + 3 ~=~ 8$$\n",
    "\n",
    "I hope you get the idea. \n",
    "\n",
    "Before we we code up this sequence, let's appreciate how important and ubiquitous it is in nature. \n",
    "\n",
    "![](http://www.davidbeahm.com/wp-content/uploads/2011/11/fibonacci-1024x637.jpg)\n",
    "\n",
    "\n",
    "![](https://i.pinimg.com/originals/32/d7/47/32d747bea24f4756dc4c5ffe61b36efd.jpg)\n",
    "\n",
    "![](https://i.pinimg.com/originals/f2/cb/34/f2cb3452dd774bab87bbee2b8a77d4bb.png)\n",
    "\n",
    "\n",
    "![](https://f4.bcbits.com/img/a3628582449_10.jpg)"
   ]
  },
  {
   "cell_type": "markdown",
   "metadata": {},
   "source": [
    "**Take Away:** \n",
    "- Recursive sequences are located everywhere in life - but we need to know what we're looking for and where to look for it. \n",
    "- Simply try to develop an appreciation for the connection between mathematics and all of physical reality. "
   ]
  },
  {
   "cell_type": "markdown",
   "metadata": {},
   "source": [
    "### Code up the Fibonacci Sequence\n",
    "Again, here is the algorithm for the Fibonacci numbers.  \n",
    "\n",
    "\n",
    "$$F_n = F_{n-1} + F_{n-2}$$\n",
    "\n",
    "\n",
    "You need a base case to get your sequence started. This time let  $F_0=0 ~\\text{and}~ F_1=1$. \n"
   ]
  },
  {
   "cell_type": "code",
   "execution_count": 1,
   "metadata": {},
   "outputs": [],
   "source": [
    "def fibo(n):\n",
    "    \"\"\"\n",
    "    Calculate and return the next number in the Fibonacci sequence\n",
    "    \n",
    "    Input\n",
    "    -----\n",
    "    n: int or float\n",
    "        The nth number in the sequence (think of it as an index for a list)\n",
    "        \n",
    "    Return\n",
    "    ------\n",
    "    F_n: the next number in the sequence generated from the previous two numbers in the sequence \n",
    "    \"\"\"\n",
    "    \n",
    "    if n <= 1:\n",
    "        # if n = 0, then return 0 \n",
    "        return n\n",
    "    else:\n",
    "        # this is the recursive part \n",
    "        # notice how the function is a function of itself!\n",
    "        #  F_n =       F_n-1 + F_n-2\n",
    "        return(fibo(n-1) + fibo(n-2))"
   ]
  },
  {
   "cell_type": "code",
   "execution_count": 3,
   "metadata": {
    "deletable": false,
    "nbgrader": {
     "cell_type": "code",
     "checksum": "d5757486eecafe9c2c1af5b428e482b3",
     "grade": false,
     "grade_id": "cell-b31ecb0aaf3ace76",
     "locked": false,
     "schema_version": 3,
     "solution": true,
     "task": false
    }
   },
   "outputs": [
    {
     "data": {
      "text/plain": [
       "[0, 1, 1, 2, 3, 5, 8, 13]"
      ]
     },
     "execution_count": 3,
     "metadata": {},
     "output_type": "execute_result"
    }
   ],
   "source": [
    "# generate a Fibonacci Sequence\n",
    "len_of_seq = 8\n",
    "[fibo(n) for n in range(len_of_seq)]"
   ]
  },
  {
   "cell_type": "markdown",
   "metadata": {},
   "source": [
    "**Take Away:** \n",
    "\n",
    "Recursive algorithms have as input their previous output. In order words, the output at time step `t - 1`, becomes in the input in the following time step `t`. This is the key idea of that you should observe. Because it is this recursive behavior that is new to how we will think about neural networks, specifically the LSTM model. "
   ]
  },
  {
   "cell_type": "markdown",
   "metadata": {
    "id": "dX_WLYHrIM1_"
   },
   "source": [
    "-----\n",
    "\n",
    "## Introduction to Recursive Neural Networks (RNNs) \n",
    "\n",
    "\n",
    "The nice thing about spending time to understand the Fibonacci Sequence is that we can then `borrow the intuition` that we picked up to help us understand how the LSTM works. \n",
    "\n",
    "Different Recursive Neural Networks (RNNs) have this recursive loop in their architecture. The ML research community first created the following RNN model using the standard Fully-Connected Forward Feeding (FCFF) model: \n",
    "\n",
    "![](https://nerdthecoder.files.wordpress.com/2019/02/731df-0mrhhgabskajpbt21.png)\n",
    "\n",
    "`This type of RNN had severe limitations!` \n",
    "\n",
    "- It didn't have long-term memory capacity to learn long input sequences \n",
    "- It suffered from the [Vanishing Gradient Problem](https://en.wikipedia.org/wiki/Vanishing_gradient_problem).\n",
    "\n",
    "In response to these limitations, the ML research community created the LSTM model, which ditched the FCFF architecture and started using the following architecture:\n",
    "\n",
    "![Long short-term memory unit](https://upload.wikimedia.org/wikipedia/commons/thumb/6/63/Long_Short-Term_Memory.svg/1024px-Long_Short-Term_Memory.svg.png)\n",
    "\n",
    "Wow! Ok! There's a lot going on here, isn't there? Well, don't worry, we are going to break this model down bit-by-bit so we can understand what is happening. "
   ]
  },
  {
   "cell_type": "markdown",
   "metadata": {
    "id": "dX_WLYHrIM1_"
   },
   "source": [
    "_____\n",
    "\n",
    "\n",
    "## Theory of LSTM\n",
    "\n",
    "One of the simplist and clearest explanations of the LSTM model can be found [**here!**](https://colah.github.io/posts/2015-08-Understanding-LSTMs/) - a beautifully clear and concise explaination the model's archtecture and the mathematics. This link will serve as our main resouce for understanding how LSTMs work. \n",
    "\n",
    "Below are the equations for each of the gates that are explained in the article. \n",
    "\n",
    "Although, you will not be held responsible for the equations in any quiz, module assignment, or Sprint Challenge - it is still instructive to be exposed to them at least once.\n",
    "\n",
    "First thing to notice is that each gate equation (not the cell states) has the form of a perceptron. \n",
    "\n",
    "`Remember the perceptron?` It's the fundamental building block of neural networks - it's not going away! \n",
    "\n",
    "Once you understand that, it will hopefully become gradually clear that each gate is a perceptron with a different job to do. \n",
    "\n",
    "That's it. \n",
    "\n",
    "It's just 4 perceptrons, each with a different job to do. \n",
    "\n",
    "Fortunately, you already know about perceptrons (you built one from scratch in `Sprint 2 Module 1`). \n",
    "\n",
    "____\n",
    "\n",
    "### Gates in More Detail\n",
    "\n",
    "#### Forget Gate\n",
    "This neuron's job is to use the current input to learn what information the cell state should forget regarding long-term dependencies. \n",
    "\n",
    "\n",
    "$$f_t = \\sigma(W_f \\cdot [h_{t-1},x_t]~+~b_f)$$\n",
    "\n",
    "#### Input Gate\n",
    "This neuron's job is to use the current input to learn what new information to include in the cell state. \n",
    "\n",
    "\n",
    "$$i_t = \\sigma(W_i \\cdot [h_{t-1},x_t]~+~b_i)$$\n",
    "\n",
    "#### Candidate Cell State \n",
    "This neuron's job is to use the current input to create a candidate cell state.\n",
    "\n",
    "This new candidate cell state will be used to update the model's final cell state.\n",
    "\n",
    "$$\\tilde{C}_t = \\text{tanh}(W_C \\cdot [h_{t-1},x_t]~+~b_C)$$\n",
    "\n",
    "#### New Cell State\n",
    "This is where the candidate and old cell state are combined to create a new cell state.\n",
    "\n",
    "This is where output from the forget gate $f_t$ is used to scaled the old cell state\n",
    "\n",
    "- If $f_t$'s value is closer to 0.0, then less information from the previous cell state is retained.\n",
    "- If $f_t$'s value is closer to 1.0, then more information from the previous cell state is retained. \n",
    "\n",
    "\n",
    "This is also where the output of the input gate $i_t$ is used to scaled the candidate cell state. \n",
    "- If $i_t$'s value is closer to 0.0, then less information from the candidate cell state is retained\n",
    "- If $i_t$'s value is closer to 1.0, then more information from the candidate cell state is retained. \n",
    "\n",
    "Finally, you combine the two scaled cell states to form the new cell state of the model. \n",
    "\n",
    "It is $C_t$ that will be passed into the next training step and used by the output to make a final prediction. \n",
    "\n",
    "$$C_t = f_t*C_{t-1} + i_t*\\tilde{C}_t$$\n",
    "\n",
    "#### Output Gate\n",
    "This is where the actual output of the model is calcuated. \n",
    "\n",
    "The article denotes the model's pre-scaled output as $o_t$ and the scaled output as $h_t$. To be clear, it is $h_t$ that ultimately gets outputed as the model's final prediction. \n",
    "\n",
    "We are familiar with the notation $y$ to denote a model's prediction instead of using $h$. But they both mean the same thing - the model's final prediction. \n",
    "\n",
    "This neuron's job is to take the current input and make a prediction. \n",
    "\n",
    "$$o_t = \\sigma(W_o \\cdot [h_{t-1},x_t]~+~b_o)$$\n",
    "\n",
    "Next, the cell state is used to inform the final prediction. \n",
    "\n",
    "Recall that $o_t$ is output from a sigmoid activation function, so it's value is somewhere between 0 and 1. \n",
    "\n",
    "Which means that it is being used to scale $\\text{tanh}(C_t)$ which contains the current cell state. \n",
    "\n",
    "Recall the tanh curve and you'll see that tanh is scaling $C_t$ so that it's value lies between -1 and 1; this makes it possible to have positive and negative values for the model's output. Sigmoids don't allow for the posibility of negative values, but tanh does. \n",
    "\n",
    "$$h_t = o_t*\\text{tanh}(C_t)$$\n",
    "\n"
   ]
  },
  {
   "cell_type": "markdown",
   "metadata": {},
   "source": [
    "# Attendence Code Word  --> recursion"
   ]
  },
  {
   "cell_type": "markdown",
   "metadata": {
    "id": "dX_WLYHrIM1_"
   },
   "source": [
    "_________\n",
    "\n",
    "### Today's Application of LSTMs\n",
    "\n",
    "So why are these cool? \n",
    "\n",
    "One particularly compelling application is actually not time series but language modeling - language is inherently ordered data (letters/words go one after another, and the order *matters*). [The Unreasonable Effectiveness of Recurrent Neural Networks](https://karpathy.github.io/2015/05/21/rnn-effectiveness/) is a famous and worth reading blog post on this topic.\n",
    "\n",
    "For our purposes, let's use TensorFlow and Keras to train RNNs with natural language. \n",
    "\n",
    "Resources:\n",
    "- https://github.com/keras-team/keras/blob/master/examples/imdb_lstm.py\n",
    "- https://keras.io/layers/recurrent/#lstm\n",
    "- http://adventuresinmachinelearning.com/keras-lstm-tutorial/\n",
    "\n",
    "Note that `tensorflow.contrib` [also has an implementation of RNN/LSTM](https://www.tensorflow.org/tutorials/sequences/recurrent)."
   ]
  },
  {
   "cell_type": "markdown",
   "metadata": {
    "id": "eWrQllf8WEd-"
   },
   "source": [
    "_____________\n",
    "\n",
    "\n",
    "## Follow Along\n",
    "\n",
    "Sequences come in many shapes and forms from stock prices to text. We'll focus on text, because modeling text as a sequence is a strength of Neural Networks. Let's start with a simple classification task using a TensorFlow tutorial. "
   ]
  },
  {
   "cell_type": "markdown",
   "metadata": {
    "id": "SSytcRhoIM2A"
   },
   "source": [
    "### RNN/LSTM Sentiment Classification with Keras"
   ]
  },
  {
   "cell_type": "code",
   "execution_count": 4,
   "metadata": {
    "colab": {
     "base_uri": "https://localhost:8080/"
    },
    "id": "Ti23G0gRe3kr",
    "outputId": "29e571de-a433-4d36-fd42-d204735bb807"
   },
   "outputs": [],
   "source": [
    "from __future__ import print_function\n",
    "\n",
    "# docs for sequence: https://www.tensorflow.org/api_docs/python/tf/keras/preprocessing/sequence/pad_sequences\n",
    "from tensorflow.keras.preprocessing import sequence\n",
    "from tensorflow.keras.models import Sequential\n",
    "from tensorflow.keras.layers import Dense, Embedding, Bidirectional\n",
    "from tensorflow.keras.layers import LSTM\n",
    "from tensorflow.keras.datasets import imdb\n",
    "import numpy as np\n",
    "import pandas as pd"
   ]
  },
  {
   "cell_type": "code",
   "execution_count": 5,
   "metadata": {
    "colab": {
     "base_uri": "https://localhost:8080/"
    },
    "id": "Ti23G0gRe3kr",
    "outputId": "29e571de-a433-4d36-fd42-d204735bb807"
   },
   "outputs": [
    {
     "name": "stdout",
     "output_type": "stream",
     "text": [
      "Loading data...\n"
     ]
    },
    {
     "name": "stderr",
     "output_type": "stream",
     "text": [
      "<__array_function__ internals>:5: VisibleDeprecationWarning: Creating an ndarray from ragged nested sequences (which is a list-or-tuple of lists-or-tuples-or ndarrays with different lengths or shapes) is deprecated. If you meant to do this, you must specify 'dtype=object' when creating the ndarray\n",
      "/Users/jenniferquigley/.local/share/virtualenvs/DS-Unit-4-Sprint-3-Deep-Learning-A-62w8AT/lib/python3.8/site-packages/tensorflow/python/keras/datasets/imdb.py:159: VisibleDeprecationWarning: Creating an ndarray from ragged nested sequences (which is a list-or-tuple of lists-or-tuples-or ndarrays with different lengths or shapes) is deprecated. If you meant to do this, you must specify 'dtype=object' when creating the ndarray\n",
      "  x_train, y_train = np.array(xs[:idx]), np.array(labels[:idx])\n"
     ]
    },
    {
     "name": "stdout",
     "output_type": "stream",
     "text": [
      "25000 train sequences\n",
      "25000 test sequences\n"
     ]
    },
    {
     "name": "stderr",
     "output_type": "stream",
     "text": [
      "/Users/jenniferquigley/.local/share/virtualenvs/DS-Unit-4-Sprint-3-Deep-Learning-A-62w8AT/lib/python3.8/site-packages/tensorflow/python/keras/datasets/imdb.py:160: VisibleDeprecationWarning: Creating an ndarray from ragged nested sequences (which is a list-or-tuple of lists-or-tuples-or ndarrays with different lengths or shapes) is deprecated. If you meant to do this, you must specify 'dtype=object' when creating the ndarray\n",
      "  x_test, y_test = np.array(xs[idx:]), np.array(labels[idx:])\n"
     ]
    }
   ],
   "source": [
    "# load in dataset \n",
    "\n",
    "# max_features is the vocabulary of our corpus \n",
    "max_features = 20000\n",
    "\n",
    "# cut texts after this number of words (among top max_features most common words)\n",
    "batch_size = 32\n",
    "\n",
    "print('Loading data...')\n",
    "(x_train, y_train), (x_test, y_test) = imdb.load_data(num_words=max_features)\n",
    "print(len(x_train), 'train sequences')\n",
    "print(len(x_test), 'test sequences')"
   ]
  },
  {
   "cell_type": "code",
   "execution_count": 8,
   "metadata": {},
   "outputs": [
    {
     "data": {
      "text/plain": [
       "(25000,)"
      ]
     },
     "execution_count": 8,
     "metadata": {},
     "output_type": "execute_result"
    }
   ],
   "source": [
    "x_train.shape"
   ]
  },
  {
   "cell_type": "code",
   "execution_count": 38,
   "metadata": {
    "colab": {
     "base_uri": "https://localhost:8080/"
    },
    "id": "2XWP9TNEM8-q",
    "outputId": "75929a58-5bfe-4541-f854-56fa24511b95"
   },
   "outputs": [
    {
     "data": {
      "text/plain": [
       "[1,\n",
       " 14,\n",
       " 22,\n",
       " 16,\n",
       " 43,\n",
       " 530,\n",
       " 973,\n",
       " 1622,\n",
       " 1385,\n",
       " 65,\n",
       " 458,\n",
       " 4468,\n",
       " 66,\n",
       " 3941,\n",
       " 4,\n",
       " 173,\n",
       " 36,\n",
       " 256,\n",
       " 5,\n",
       " 25,\n",
       " 100,\n",
       " 43,\n",
       " 838,\n",
       " 112,\n",
       " 50,\n",
       " 670,\n",
       " 2,\n",
       " 9,\n",
       " 35,\n",
       " 480,\n",
       " 284,\n",
       " 5,\n",
       " 150,\n",
       " 4,\n",
       " 172,\n",
       " 112,\n",
       " 167,\n",
       " 2,\n",
       " 336,\n",
       " 385,\n",
       " 39,\n",
       " 4,\n",
       " 172,\n",
       " 4536,\n",
       " 1111,\n",
       " 17,\n",
       " 546,\n",
       " 38,\n",
       " 13,\n",
       " 447,\n",
       " 4,\n",
       " 192,\n",
       " 50,\n",
       " 16,\n",
       " 6,\n",
       " 147,\n",
       " 2025,\n",
       " 19,\n",
       " 14,\n",
       " 22,\n",
       " 4,\n",
       " 1920,\n",
       " 4613,\n",
       " 469,\n",
       " 4,\n",
       " 22,\n",
       " 71,\n",
       " 87,\n",
       " 12,\n",
       " 16,\n",
       " 43,\n",
       " 530,\n",
       " 38,\n",
       " 76,\n",
       " 15,\n",
       " 13,\n",
       " 1247,\n",
       " 4,\n",
       " 22,\n",
       " 17,\n",
       " 515,\n",
       " 17,\n",
       " 12,\n",
       " 16,\n",
       " 626,\n",
       " 18,\n",
       " 19193,\n",
       " 5,\n",
       " 62,\n",
       " 386,\n",
       " 12,\n",
       " 8,\n",
       " 316,\n",
       " 8,\n",
       " 106,\n",
       " 5,\n",
       " 4,\n",
       " 2223,\n",
       " 5244,\n",
       " 16,\n",
       " 480,\n",
       " 66,\n",
       " 3785,\n",
       " 33,\n",
       " 4,\n",
       " 130,\n",
       " 12,\n",
       " 16,\n",
       " 38,\n",
       " 619,\n",
       " 5,\n",
       " 25,\n",
       " 124,\n",
       " 51,\n",
       " 36,\n",
       " 135,\n",
       " 48,\n",
       " 25,\n",
       " 1415,\n",
       " 33,\n",
       " 6,\n",
       " 22,\n",
       " 12,\n",
       " 215,\n",
       " 28,\n",
       " 77,\n",
       " 52,\n",
       " 5,\n",
       " 14,\n",
       " 407,\n",
       " 16,\n",
       " 82,\n",
       " 10311,\n",
       " 8,\n",
       " 4,\n",
       " 107,\n",
       " 117,\n",
       " 5952,\n",
       " 15,\n",
       " 256,\n",
       " 4,\n",
       " 2,\n",
       " 7,\n",
       " 3766,\n",
       " 5,\n",
       " 723,\n",
       " 36,\n",
       " 71,\n",
       " 43,\n",
       " 530,\n",
       " 476,\n",
       " 26,\n",
       " 400,\n",
       " 317,\n",
       " 46,\n",
       " 7,\n",
       " 4,\n",
       " 12118,\n",
       " 1029,\n",
       " 13,\n",
       " 104,\n",
       " 88,\n",
       " 4,\n",
       " 381,\n",
       " 15,\n",
       " 297,\n",
       " 98,\n",
       " 32,\n",
       " 2071,\n",
       " 56,\n",
       " 26,\n",
       " 141,\n",
       " 6,\n",
       " 194,\n",
       " 7486,\n",
       " 18,\n",
       " 4,\n",
       " 226,\n",
       " 22,\n",
       " 21,\n",
       " 134,\n",
       " 476,\n",
       " 26,\n",
       " 480,\n",
       " 5,\n",
       " 144,\n",
       " 30,\n",
       " 5535,\n",
       " 18,\n",
       " 51,\n",
       " 36,\n",
       " 28,\n",
       " 224,\n",
       " 92,\n",
       " 25,\n",
       " 104,\n",
       " 4,\n",
       " 226,\n",
       " 65,\n",
       " 16,\n",
       " 38,\n",
       " 1334,\n",
       " 88,\n",
       " 12,\n",
       " 16,\n",
       " 283,\n",
       " 5,\n",
       " 16,\n",
       " 4472,\n",
       " 113,\n",
       " 103,\n",
       " 32,\n",
       " 15,\n",
       " 16,\n",
       " 5345,\n",
       " 19,\n",
       " 178,\n",
       " 32]"
      ]
     },
     "execution_count": 38,
     "metadata": {},
     "output_type": "execute_result"
    }
   ],
   "source": [
    "# documentation on this data set here: https://www.tensorflow.org/api_docs/python/tf/keras/datasets/imdb/load_data\n",
    "# the values in the lists represents the token frequncy, so \"1\" means the most frequent token in the corpus \n",
    "# each list represents a movie review\n",
    "\n",
    "# concept from Sprint 1 NLP \n",
    "# numerical encoding of natural language (i.e. text data)\n",
    "x_train[0]"
   ]
  },
  {
   "cell_type": "code",
   "execution_count": 6,
   "metadata": {
    "colab": {
     "base_uri": "https://localhost:8080/"
    },
    "id": "lK9k4UKJM9EC",
    "outputId": "cce49d58-d0de-40db-a76b-1a71e9a3d4f9"
   },
   "outputs": [],
   "source": [
    "# binary labels \n",
    "# 1 -> positive sentiment expressed in movie review\n",
    "# 0 -> negative sentiment expressed in movie review \n",
    "\n",
    "# Caution: this logic might not hold for One-Hot encoder Y vectors \n",
    "n_features = len(np.unique(y_train))"
   ]
  },
  {
   "cell_type": "code",
   "execution_count": 7,
   "metadata": {
    "colab": {
     "base_uri": "https://localhost:8080/"
    },
    "deletable": false,
    "id": "c0awRJCnIM2G",
    "nbgrader": {
     "cell_type": "code",
     "checksum": "06de4d9b7986caa5aef6c537af138ee9",
     "grade": false,
     "grade_id": "cell-fb23c1d7d1168a73",
     "locked": false,
     "schema_version": 3,
     "solution": true,
     "task": false
    },
    "outputId": "cab328b7-9f86-4728-c62f-70deab2fa1f5"
   },
   "outputs": [],
   "source": [
    "# although there are some implmentations of LSTM models that can handle variable length samples, this is not one of those models\n",
    "# so we need to standardize the length of our movies\n",
    "# reviews that are longer than maxlen are truncated\n",
    "# reivewsd that are shorter than maxlen are padded with 0 (Or some other value that you provide)\n",
    "\n",
    "# max word length of docs \n",
    "maxlen = 80\n",
    "\n",
    "# trims front end of vectors and just leaves last 80\n",
    "x_train = sequence.pad_sequences(x_train, maxlen=maxlen)\n",
    "x_test = sequence.pad_sequences(x_test, maxlen=maxlen)"
   ]
  },
  {
   "cell_type": "code",
   "execution_count": 10,
   "metadata": {},
   "outputs": [
    {
     "data": {
      "text/plain": [
       "array([   15,   256,     4,     2,     7,  3766,     5,   723,    36,\n",
       "          71,    43,   530,   476,    26,   400,   317,    46,     7,\n",
       "           4, 12118,  1029,    13,   104,    88,     4,   381,    15,\n",
       "         297,    98,    32,  2071,    56,    26,   141,     6,   194,\n",
       "        7486,    18,     4,   226,    22,    21,   134,   476,    26,\n",
       "         480,     5,   144,    30,  5535,    18,    51,    36,    28,\n",
       "         224,    92,    25,   104,     4,   226,    65,    16,    38,\n",
       "        1334,    88,    12,    16,   283,     5,    16,  4472,   113,\n",
       "         103,    32,    15,    16,  5345,    19,   178,    32],\n",
       "      dtype=int32)"
      ]
     },
     "execution_count": 10,
     "metadata": {},
     "output_type": "execute_result"
    }
   ],
   "source": [
    "x_train[0]"
   ]
  },
  {
   "cell_type": "code",
   "execution_count": 8,
   "metadata": {},
   "outputs": [
    {
     "data": {
      "text/plain": [
       "(25000, 80)"
      ]
     },
     "execution_count": 8,
     "metadata": {},
     "output_type": "execute_result"
    }
   ],
   "source": [
    "x_train.shape"
   ]
  },
  {
   "cell_type": "code",
   "execution_count": 9,
   "metadata": {},
   "outputs": [
    {
     "data": {
      "text/plain": [
       "(25000, 80)"
      ]
     },
     "execution_count": 9,
     "metadata": {},
     "output_type": "execute_result"
    }
   ],
   "source": [
    "x_test.shape"
   ]
  },
  {
   "cell_type": "markdown",
   "metadata": {},
   "source": [
    "### Build a 1 hidden layer LSTM language model"
   ]
  },
  {
   "cell_type": "code",
   "execution_count": null,
   "metadata": {},
   "outputs": [],
   "source": []
  },
  {
   "cell_type": "code",
   "execution_count": 43,
   "metadata": {
    "colab": {
     "base_uri": "https://localhost:8080/"
    },
    "deletable": false,
    "id": "QD_NjHw-pcJS",
    "nbgrader": {
     "cell_type": "code",
     "checksum": "200cc0a64ca234e836bf8fe83a553143",
     "grade": false,
     "grade_id": "cell-9c285c5d84213905",
     "locked": false,
     "schema_version": 3,
     "solution": true,
     "task": false
    },
    "outputId": "321e2638-8e0b-43cd-fd0f-26b0d41a94ad"
   },
   "outputs": [
    {
     "name": "stdout",
     "output_type": "stream",
     "text": [
      "Model: \"sequential_4\"\n",
      "_________________________________________________________________\n",
      "Layer (type)                 Output Shape              Param #   \n",
      "=================================================================\n",
      "embedding_4 (Embedding)      (None, None, 128)         2560128   \n",
      "_________________________________________________________________\n",
      "lstm_2 (LSTM)                (None, 128)               131584    \n",
      "_________________________________________________________________\n",
      "dense_2 (Dense)              (None, 1)                 129       \n",
      "=================================================================\n",
      "Total params: 2,691,841\n",
      "Trainable params: 2,691,841\n",
      "Non-trainable params: 0\n",
      "_________________________________________________________________\n"
     ]
    }
   ],
   "source": [
    "# as usual, we begin building our model by instantiating a Sequential calss\n",
    "model = Sequential()\n",
    "\n",
    "embed_input_dim = max_features + 1\n",
    "embed_outptu_dim = 128\n",
    "\n",
    "#input layer\n",
    "model.add(Embedding(embed_input_dim, embed_outptu_dim))\n",
    "\n",
    "# hidden layer 1 \n",
    "model.add(LSTM(128, return_sequences=False))\n",
    "\n",
    "# # hidden layer 2 (optional)\n",
    "# model.add(LSTM(128))\n",
    "\n",
    "# output layer\n",
    "# use single node and sigmoid act funct for binary classification tasks\n",
    "model.add(Dense(1, activation=\"sigmoid\"))\n",
    "\n",
    "# compile \n",
    "model.compile(loss=\"binary_crossentropy\")\n",
    "# print out summary of model \n",
    "model.summary()"
   ]
  },
  {
   "cell_type": "code",
   "execution_count": 19,
   "metadata": {},
   "outputs": [
    {
     "name": "stdout",
     "output_type": "stream",
     "text": [
      "Epoch 1/5\n",
      "98/98 [==============================] - 30s 292ms/step - loss: 0.6269 - val_loss: 0.3916\n",
      "Epoch 2/5\n",
      "98/98 [==============================] - 29s 302ms/step - loss: 0.3139 - val_loss: 0.3564\n",
      "Epoch 3/5\n",
      "98/98 [==============================] - 28s 282ms/step - loss: 0.2562 - val_loss: 0.4130\n",
      "Epoch 4/5\n",
      "98/98 [==============================] - 28s 282ms/step - loss: 0.2106 - val_loss: 0.4264\n",
      "Epoch 5/5\n",
      "98/98 [==============================] - 27s 281ms/step - loss: 0.1760 - val_loss: 0.4977\n"
     ]
    }
   ],
   "source": [
    "results_one_layer = model.fit(x_train, y_train,\n",
    "                      batch_size=256, \n",
    "                      epochs=5, \n",
    "                      validation_data=(x_test,y_test))"
   ]
  },
  {
   "cell_type": "markdown",
   "metadata": {},
   "source": [
    "### Build a 1 hidden layer Bidirectional LSTM language model\n",
    "\n",
    "A Bidirectional LSTM, or biLSTM, is a sequence processing model that consists of two LSTMs: **one taking the input in a forward direction**, and **the other in a backwards direction**. BiLSTMs effectively increase the amount of information available to the network, improving the context available to the algorithm (e.g. knowing what words immediately follow and precede a word in a sentence).\n",
    "\n",
    "![](https://miro.medium.com/max/764/1*6QnPUSv_t9BY9Fv8_aLb-Q.png)"
   ]
  },
  {
   "cell_type": "code",
   "execution_count": 20,
   "metadata": {
    "colab": {
     "base_uri": "https://localhost:8080/"
    },
    "deletable": false,
    "id": "cKyGb4TzIM2O",
    "nbgrader": {
     "cell_type": "code",
     "checksum": "b7058ca0b8f53f28530be9c93a8bef46",
     "grade": false,
     "grade_id": "cell-706b7be103484984",
     "locked": false,
     "schema_version": 3,
     "solution": true,
     "task": false
    },
    "outputId": "2cf2f039-ffc3-40e3-8810-e98b07240a3a"
   },
   "outputs": [
    {
     "name": "stdout",
     "output_type": "stream",
     "text": [
      "Model: \"sequential_2\"\n",
      "_________________________________________________________________\n",
      "Layer (type)                 Output Shape              Param #   \n",
      "=================================================================\n",
      "embedding_2 (Embedding)      (None, None, 128)         2560000   \n",
      "_________________________________________________________________\n",
      "bidirectional (Bidirectional (None, 256)               263168    \n",
      "_________________________________________________________________\n",
      "dense_1 (Dense)              (None, 1)                 257       \n",
      "=================================================================\n",
      "Total params: 2,823,425\n",
      "Trainable params: 2,823,425\n",
      "Non-trainable params: 0\n",
      "_________________________________________________________________\n"
     ]
    }
   ],
   "source": [
    "# as usual, we begin to build our model by instantiating a Sequential class \n",
    "model = Sequential()\n",
    "\n",
    "# input layer \n",
    "# we are explicitly declaring the input layer here by add an Embedding object \n",
    "model.add(Embedding(max_features, 128))\n",
    "\n",
    "# hidden layer 1 \n",
    "model.add(Bidirectional(LSTM(128, return_sequences=False)))\n",
    "\n",
    "# output layer \n",
    "model.add(Dense(1, activation='sigmoid'))\n",
    "\n",
    "model.compile(loss='binary_crossentropy',\n",
    "              optimizer='adam', \n",
    "              metrics=['accuracy'])\n",
    "\n",
    "model.summary()"
   ]
  },
  {
   "cell_type": "code",
   "execution_count": 21,
   "metadata": {},
   "outputs": [
    {
     "name": "stdout",
     "output_type": "stream",
     "text": [
      "Epoch 1/5\n",
      "98/98 [==============================] - 53s 515ms/step - loss: 0.5824 - accuracy: 0.6509 - val_loss: 0.3663 - val_accuracy: 0.8412\n",
      "Epoch 2/5\n",
      "98/98 [==============================] - 48s 488ms/step - loss: 0.2578 - accuracy: 0.8979 - val_loss: 0.3830 - val_accuracy: 0.8340\n",
      "Epoch 3/5\n",
      "98/98 [==============================] - 45s 464ms/step - loss: 0.1830 - accuracy: 0.9328 - val_loss: 0.4027 - val_accuracy: 0.8267\n",
      "Epoch 4/5\n",
      "98/98 [==============================] - 47s 480ms/step - loss: 0.1218 - accuracy: 0.9597 - val_loss: 0.4843 - val_accuracy: 0.8220\n",
      "Epoch 5/5\n",
      "98/98 [==============================] - 48s 493ms/step - loss: 0.0955 - accuracy: 0.9682 - val_loss: 0.4605 - val_accuracy: 0.8107\n"
     ]
    }
   ],
   "source": [
    "results_biLSTM = model.fit(x_train, y_train,\n",
    "                      batch_size=256, \n",
    "                      epochs=5, \n",
    "                      validation_data=(x_test,y_test))"
   ]
  },
  {
   "cell_type": "code",
   "execution_count": 22,
   "metadata": {
    "colab": {
     "base_uri": "https://localhost:8080/",
     "height": 404
    },
    "id": "RZx3Zs7tIM2Q",
    "outputId": "9d7d2ffd-25c0-4e0c-844c-d2de69ceef8c"
   },
   "outputs": [
    {
     "data": {
      "image/png": "[encoded data removed]",
      "text/plain": [
       "<Figure size 720x432 with 1 Axes>"
      ]
     },
     "metadata": {
      "needs_background": "light"
     },
     "output_type": "display_data"
    }
   ],
   "source": [
    "# Plot training & validation loss values\n",
    "import matplotlib.pyplot as plt\n",
    "\n",
    "epoch_list = np.arange(1,6)\n",
    "\n",
    "plt.figure(figsize=(10,6))\n",
    "plt.grid()\n",
    "plt.xticks(epoch_list)\n",
    "# results for 1-layer lstm model\n",
    "plt.plot(epoch_list, results_one_layer.history['loss'], \"--\", label=\"1 layer Train\")\n",
    "plt.plot(epoch_list, results_one_layer.history['val_loss'], \"--\", label = \"1 layer Test\")\n",
    "\n",
    "# results for 3-layer lstm model\n",
    "plt.plot(epoch_list, results_biLSTM.history['loss'], label=\"biLSTM Train \")\n",
    "plt.plot(epoch_list, results_biLSTM.history['val_loss'], label = \"biLSTM Test\")\n",
    "plt.title('Model loss')\n",
    "plt.ylabel('Loss')\n",
    "plt.xlabel('Epoch')\n",
    "plt.legend()\n",
    "plt.show();"
   ]
  },
  {
   "cell_type": "markdown",
   "metadata": {
    "id": "L9Ps3CauIM2S"
   },
   "source": [
    "## Challenge\n",
    "\n",
    "You will be expected to use an Keras LSTM for a classicification task on the *Sprint Challenge*. "
   ]
  },
  {
   "cell_type": "markdown",
   "metadata": {
    "id": "7pETWPIe362y"
   },
   "source": [
    "--------\n",
    "# LSTM Text generation with Keras (Learn)"
   ]
  },
  {
   "cell_type": "markdown",
   "metadata": {},
   "source": [
    "Using sequential models to generate text data is a very popular application of recursive deep learning models. A couple of popular applications are [**chat bots**](https://hackernoon.com/deep-learning-chatbot-everything-you-need-to-know-r11jm30bc) and language translators such as [**google translate**](https://ai.googleblog.com/2020/06/recent-advances-in-google-translate.html). \n",
    "\n",
    "In order to properly build a chat bot or translater you need to use multiple lstm models in an encoder & decoder framwork known as a [**sequence 2 sequence model**](https://keras.io/examples/nlp/lstm_seq2seq/) .\n",
    "\n",
    "\n",
    "![](https://jeddy92.github.io/images/ts_intro/seq2seq_lang.png)\n",
    "\n",
    "Also, now a days, using a standard LSTM isn't enough. \n",
    "\n",
    "You also have to use a version of lstm seq2seq models known as [**transformers**](https://towardsdatascience.com/transformers-141e32e69591). Transformers give seq2seq models the capacity to pay attention to specific portions of the input sequence, the most relevent portion in order to make a prediction. Yes, that's right, humanity has figured out how to convert attention into an algorithm. Next stop, self-awareness! \n",
    "\n",
    "The above mentions of sequence 2 sequence models and transformers are for a larger contextual understanding of the landscape of language models and how LSTMs fit into this landscape. Although **we will cover the endcoder/decoder framework in a future lesson, transformers are outside the scope of Unit 4**. However, once you learn about LSTMs and encoder/decoder frameworks, you will have all necessary information to then go on and learn about transformers on your own. At that point, the only really new bit you'll be learning is the [**attention mechanism**](https://towardsdatascience.com/intuitive-understanding-of-attention-mechanism-in-deep-learning-6c9482aecf4f). \n",
    "\n",
    "\n",
    "As a first pass at text generation, we'll stick to standard LSTM models. "
   ]
  },
  {
   "cell_type": "markdown",
   "metadata": {
    "id": "BK-GrUGvIM2T"
   },
   "source": [
    "-----\n",
    "# Text Generation using LSTMs\n",
    "\n",
    "What else can we do with LSTMs? Since we're analyzing the *sequence*, we can do more than classify - we can *generate* text. I'ved pulled some news stories using [newspaper](https://github.com/codelucas/newspaper/).\n",
    "\n",
    "This example is drawn from the Keras [documentation](https://keras.io/examples/lstm_text_generation/)."
   ]
  },
  {
   "cell_type": "code",
   "execution_count": 49,
   "metadata": {
    "id": "q64qHEYIIM2U"
   },
   "outputs": [],
   "source": [
    "from tensorflow.keras.callbacks import LambdaCallback\n",
    "from tensorflow.keras.models import Sequential\n",
    "from tensorflow.keras.layers import Dense, LSTM\n",
    "\n",
    "import tensorflow as tf\n",
    "from tensorflow.keras.preprocessing import sequence\n",
    "\n",
    "import re\n",
    "import numpy as np\n",
    "import pandas as pd\n",
    "import random\n",
    "import sys\n",
    "import os"
   ]
  },
  {
   "cell_type": "code",
   "execution_count": 50,
   "metadata": {},
   "outputs": [],
   "source": [
    "# a custom data prep class that we'll be using \n",
    "from data_cleaning_toolkit_class import data_cleaning_toolkit"
   ]
  },
  {
   "cell_type": "code",
   "execution_count": 51,
   "metadata": {
    "colab": {
     "base_uri": "https://localhost:8080/",
     "height": 198
    },
    "id": "MxcXsdsSIM2W",
    "outputId": "33551ac0-14c9-4832-d4ee-143c1f2e2a1a"
   },
   "outputs": [
    {
     "data": {
      "text/html": [
       "<div>\n",
       "<style scoped>\n",
       "    .dataframe tbody tr th:only-of-type {\n",
       "        vertical-align: middle;\n",
       "    }\n",
       "\n",
       "    .dataframe tbody tr th {\n",
       "        vertical-align: top;\n",
       "    }\n",
       "\n",
       "    .dataframe thead th {\n",
       "        text-align: right;\n",
       "    }\n",
       "</style>\n",
       "<table border=\"1\" class=\"dataframe\">\n",
       "  <thead>\n",
       "    <tr style=\"text-align: right;\">\n",
       "      <th></th>\n",
       "      <th>article</th>\n",
       "    </tr>\n",
       "  </thead>\n",
       "  <tbody>\n",
       "    <tr>\n",
       "      <th>0</th>\n",
       "      <td>Contributing columnist\\n\\nThe House is on fire...</td>\n",
       "    </tr>\n",
       "    <tr>\n",
       "      <th>1</th>\n",
       "      <td>When President Trump announced his decision to...</td>\n",
       "    </tr>\n",
       "    <tr>\n",
       "      <th>10</th>\n",
       "      <td>Russian President Vladimir Putin speaks at a s...</td>\n",
       "    </tr>\n",
       "    <tr>\n",
       "      <th>100</th>\n",
       "      <td>“The Queen’s Speech” is designed to acknowledg...</td>\n",
       "    </tr>\n",
       "    <tr>\n",
       "      <th>101</th>\n",
       "      <td>Like an aging rock star, the president is now ...</td>\n",
       "    </tr>\n",
       "  </tbody>\n",
       "</table>\n",
       "</div>"
      ],
      "text/plain": [
       "                                               article\n",
       "0    Contributing columnist\\n\\nThe House is on fire...\n",
       "1    When President Trump announced his decision to...\n",
       "10   Russian President Vladimir Putin speaks at a s...\n",
       "100  “The Queen’s Speech” is designed to acknowledg...\n",
       "101  Like an aging rock star, the president is now ..."
      ]
     },
     "execution_count": 51,
     "metadata": {},
     "output_type": "execute_result"
    }
   ],
   "source": [
    "# load text data (articles)\n",
    "df = pd.read_json('https://raw.githubusercontent.com/LambdaSchool/DS-Unit-4-Sprint-3-Deep-Learning/main/module1-rnn-and-lstm/wp_articles.json')\n",
    "df.head()"
   ]
  },
  {
   "cell_type": "code",
   "execution_count": 52,
   "metadata": {
    "scrolled": true
   },
   "outputs": [
    {
     "data": {
      "text/plain": [
       "\"Contributing columnist\\n\\nThe House is on fire. And with each passing day, Donald Trump defiles the office of the president. If only past defrocked presidents could provide a roadmap for this firestorm.\\n\\nAndrew Johnson fought impeachment vigorously and survived removal, but never won reelection. Richard Nixon got in the way of justice, but eventually bowed to the rule of law, accepting his asterisk in the annals of history and resigning before certain removal. Bill Clinton expressed contrition, went on to complete his presidency with high approval ratings and has remained a popular former president.\\n\\nIf you care about democracy, the rule of law and nearly 250 years of constitutional governance, take heed. President Trump is no Clinton or Nixon, or even Johnson. He will not go quietly. It will be ugly. He will betray us and the rule of law in the process — defying subpoenas, withholding documents, blocking witnesses.\\n\\nThis presidency is fouled with disrespect for rules, boundaries and norms. Trump walked away from major agreements negotiated by his predecessors — the Iran nuclear deal, the Paris climate accord — and the United States’ word as bond is no more. Look at the ease with which he discards supporters — ask former attorney general Jeff Sessions or former secretary of state Rex Tillerson. Ask our allies, here today, gone tomorrow — NATO, the Kurds in Syria.\\n\\nFrom his earliest days as a candidate, Trump voiced appallingly arrogant views about the power of the presidency: “Mexico will pay for the wall!” ; “I alone can fix it”; “My primary consultant is myself.” His possessiveness over people and institutions is also not new: “my generals and my military,” “my African American.”\\n\\nOnly months into his presidency, Trump disparaged democratic allies, including Germany’s Angela Merkel (“ruining Germany”) and Britain’s Theresa May (“foolish”) — notably, both women — in favor of strong-arm leaders such as North Korea’s Kim Jong Un (who wrote him “beautiful letters”), Saudi Arabia’s Mohammed bin Salman (“very good ally”), Turkey’s Recep Tayyip Erdogan (“great friendship”) and the Philippines’ Rodrigo Duterte (“great relationship”). Trump heaps praise on Russia’s Vladimir Putin (“he’s a strong leader”). And, days after revealing his words pressuring Ukrainian President Volodymyr Zelensky to dig up dirt on his opponent, he invited China to do it, too.\\n\\nTrump’s campaign for the White House was rotten from the beginning. We glimpsed its depths when his lawyer Michael Cohen pleaded guilty to campaign finance felonies and identified Trump as “Individual 1” in a conspiracy to pay off an adult-film star and a former Playboy model to silence them during the height of the 2016 presidential campaign. We got even more evidence of Trump’s deception in the dense report prepared by special counsel Robert S. Mueller III on Russia’s interference in the 2016 election to benefit Trump and try to defeat Hillary Clinton. Mueller laid the groundwork for at least 10 acts of obstruction of justice.\\n\\nEven with all of that, it’s this still-unraveling Ukraine story that makes clear the bits and pieces that we could only imagine with Trump’s pleas to “Russia, if you’re listening . . . .” We have the same threats, lies, subterfuge and obstruction — only this time, we have the president’s unambiguous words to Zelensky: “I would like you to do us a favor though.” Ukraine represents the same lawlessness that propelled Trump over the finish line in 2016: this time in plain sight, with witnesses, including at least one whistleblower and lots of bit players. From the State Department to the Energy Department to the Justice Department and throughout the White House, Trump is using every bit of the machinery of government and personnel at his disposal to strongarm a small country under the heel of its threatening Russian neighbor — all to get manufactured dirt on a political opponent.\\n\\nIt’s illegal. The evidence is bearing fruit. The time will come. And justice will be served.\\n\\nThe president’s personal approval rating remains low, though stable, but there is growing support for impeachment — a Fox News poll this week found that 51 percent support removing Trump from office. Independents, as well as Democrats, mostly support the impeachment inquiry, while Republicans are mostly holding tight. These things may or may not change.\\n\\nEither way, we will be changed if we do not right this ship of democracy.\\n\\n“Impeachment is not about punishment. Impeachment is about cleansing the office. Impeachment is about restoring honor and integrity to the office.” We should heed these words, spoken by the 1999 version of Sen. Lindsey O. Graham (R-S.C.). The fire did not start with Ukraine. Nonetheless, Ukraine may give us the water to finally put it out.\\n\\nRead more from Donna F. Edwards's archive.\""
      ]
     },
     "execution_count": 52,
     "metadata": {},
     "output_type": "execute_result"
    }
   ],
   "source": [
    "df.article.iloc[0]"
   ]
  },
  {
   "cell_type": "code",
   "execution_count": 53,
   "metadata": {
    "deletable": false,
    "nbgrader": {
     "cell_type": "code",
     "checksum": "54b3f47f5eeed6cf3fd9732ac8abf1e5",
     "grade": false,
     "grade_id": "cell-292d1e2b08c74976",
     "locked": false,
     "schema_version": 3,
     "solution": true,
     "task": false
    }
   },
   "outputs": [
    {
     "name": "stdout",
     "output_type": "stream",
     "text": [
      "sequences:  168949\n"
     ]
    }
   ],
   "source": [
    "# instantiate data cleaning toolkit\n",
    "dctk = data_cleaning_toolkit()\n",
    "\n",
    "# use regex to clean documents\n",
    "df[\"clean_data\"] = df.article.apply(lambda doc: dctk.clean_data(doc))\n",
    "\n",
    "# move docs to array\n",
    "data = df[\"clean_data\"].values\n",
    "\n",
    "# amount of chars in each doc vector \n",
    "doc_len = 200\n",
    "\n",
    "# numerically encode documents\n",
    "dctk.create_char_sequenes(data, doc_len)\n",
    "\n",
    "# create X and Y split \n",
    "x, y = dctk.create_X_and_Y()"
   ]
  },
  {
   "cell_type": "code",
   "execution_count": 58,
   "metadata": {},
   "outputs": [
    {
     "data": {
      "text/plain": [
       "136"
      ]
     },
     "execution_count": 58,
     "metadata": {},
     "output_type": "execute_result"
    }
   ],
   "source": [
    "len(data)"
   ]
  },
  {
   "cell_type": "code",
   "execution_count": 30,
   "metadata": {},
   "outputs": [
    {
     "data": {
      "text/plain": [
       "(168949, 200, 27)"
      ]
     },
     "execution_count": 30,
     "metadata": {},
     "output_type": "execute_result"
    }
   ],
   "source": [
    "# this is a tensor \n",
    "# this is actually a rank 3 tensor \n",
    "# we will cover tensors in detail tomorrow in our CNN lesson \n",
    "x.shape"
   ]
  },
  {
   "cell_type": "code",
   "execution_count": 31,
   "metadata": {},
   "outputs": [
    {
     "data": {
      "text/plain": [
       "(168949, 27)"
      ]
     },
     "execution_count": 31,
     "metadata": {},
     "output_type": "execute_result"
    }
   ],
   "source": [
    "y.shape"
   ]
  },
  {
   "cell_type": "code",
   "execution_count": 32,
   "metadata": {},
   "outputs": [],
   "source": [
    "# this is our encoded doc-term matrix \n",
    "dtm = dctk.sequences"
   ]
  },
  {
   "cell_type": "code",
   "execution_count": 34,
   "metadata": {},
   "outputs": [
    {
     "data": {
      "text/plain": [
       "168949"
      ]
     },
     "execution_count": 34,
     "metadata": {},
     "output_type": "execute_result"
    }
   ],
   "source": [
    "len(dtm)"
   ]
  },
  {
   "cell_type": "code",
   "execution_count": 36,
   "metadata": {},
   "outputs": [
    {
     "data": {
      "text/plain": [
       "200"
      ]
     },
     "execution_count": 36,
     "metadata": {},
     "output_type": "execute_result"
    }
   ],
   "source": [
    "# each sequence is doc_len characters long\n",
    "len(dtm[0])"
   ]
  },
  {
   "cell_type": "code",
   "execution_count": 37,
   "metadata": {},
   "outputs": [
    {
     "data": {
      "text/plain": [
       "[15,\n",
       " 22,\n",
       " 0,\n",
       " 9,\n",
       " 8,\n",
       " 19,\n",
       " 7,\n",
       " 1,\n",
       " 9,\n",
       " 19,\n",
       " 0,\n",
       " 14,\n",
       " 25,\n",
       " 15,\n",
       " 22,\n",
       " 24,\n",
       " 1,\n",
       " 5,\n",
       " 0,\n",
       " 19,\n",
       " 23,\n",
       " 9,\n",
       " 9,\n",
       " 13,\n",
       " 4,\n",
       " 25,\n",
       " 13,\n",
       " 22,\n",
       " 1,\n",
       " 23,\n",
       " 4,\n",
       " 25,\n",
       " 19,\n",
       " 23,\n",
       " 25,\n",
       " 22,\n",
       " 0,\n",
       " 25,\n",
       " 21,\n",
       " 19,\n",
       " 8,\n",
       " 4,\n",
       " 25,\n",
       " 6,\n",
       " 0,\n",
       " 20,\n",
       " 25,\n",
       " 10,\n",
       " 19,\n",
       " 9,\n",
       " 13,\n",
       " 25,\n",
       " 4,\n",
       " 6,\n",
       " 15,\n",
       " 13,\n",
       " 25,\n",
       " 3,\n",
       " 6,\n",
       " 23,\n",
       " 23,\n",
       " 19,\n",
       " 0,\n",
       " 14,\n",
       " 25,\n",
       " 20,\n",
       " 6,\n",
       " 17,\n",
       " 25,\n",
       " 20,\n",
       " 22,\n",
       " 0,\n",
       " 6,\n",
       " 24,\n",
       " 20,\n",
       " 25,\n",
       " 9,\n",
       " 8,\n",
       " 1,\n",
       " 5,\n",
       " 3,\n",
       " 25,\n",
       " 20,\n",
       " 4,\n",
       " 21,\n",
       " 19,\n",
       " 24,\n",
       " 4,\n",
       " 23,\n",
       " 25,\n",
       " 9,\n",
       " 13,\n",
       " 4,\n",
       " 25,\n",
       " 22,\n",
       " 21,\n",
       " 21,\n",
       " 19,\n",
       " 15,\n",
       " 4,\n",
       " 25,\n",
       " 22,\n",
       " 21,\n",
       " 25,\n",
       " 9,\n",
       " 13,\n",
       " 4,\n",
       " 25,\n",
       " 3,\n",
       " 8,\n",
       " 4,\n",
       " 23,\n",
       " 19,\n",
       " 20,\n",
       " 4,\n",
       " 0,\n",
       " 9,\n",
       " 25,\n",
       " 19,\n",
       " 21,\n",
       " 25,\n",
       " 22,\n",
       " 0,\n",
       " 24,\n",
       " 17,\n",
       " 25,\n",
       " 3,\n",
       " 6,\n",
       " 23,\n",
       " 9,\n",
       " 25,\n",
       " 20,\n",
       " 4,\n",
       " 21,\n",
       " 8,\n",
       " 22,\n",
       " 15,\n",
       " 12,\n",
       " 4,\n",
       " 20,\n",
       " 25,\n",
       " 3,\n",
       " 8,\n",
       " 4,\n",
       " 23,\n",
       " 19,\n",
       " 20,\n",
       " 4,\n",
       " 0,\n",
       " 9,\n",
       " 23,\n",
       " 25,\n",
       " 15,\n",
       " 22,\n",
       " 1,\n",
       " 24,\n",
       " 20,\n",
       " 25,\n",
       " 3,\n",
       " 8,\n",
       " 22,\n",
       " 11,\n",
       " 19,\n",
       " 20,\n",
       " 4,\n",
       " 25,\n",
       " 6,\n",
       " 25,\n",
       " 8,\n",
       " 22,\n",
       " 6,\n",
       " 20,\n",
       " 5,\n",
       " 6,\n",
       " 3,\n",
       " 25,\n",
       " 21,\n",
       " 22,\n",
       " 8,\n",
       " 25,\n",
       " 9,\n",
       " 13,\n",
       " 19,\n",
       " 23,\n",
       " 25,\n",
       " 21,\n",
       " 19,\n",
       " 8,\n",
       " 4,\n",
       " 23,\n",
       " 9,\n",
       " 22,\n",
       " 8,\n",
       " 5,\n",
       " 6,\n",
       " 0,\n",
       " 20,\n",
       " 8,\n",
       " 4,\n",
       " 10]"
      ]
     },
     "execution_count": 37,
     "metadata": {},
     "output_type": "execute_result"
    }
   ],
   "source": [
    "# want to know what this encoded document actually says?\n",
    "# you'll need to the char-int look up dictionaries \n",
    "dtm[0]"
   ]
  },
  {
   "cell_type": "code",
   "execution_count": 38,
   "metadata": {
    "scrolled": true
   },
   "outputs": [
    {
     "data": {
      "text/plain": [
       "{'n': 0,\n",
       " 'u': 1,\n",
       " 'z': 2,\n",
       " 'p': 3,\n",
       " 'e': 4,\n",
       " 'm': 5,\n",
       " 'a': 6,\n",
       " 'b': 7,\n",
       " 'r': 8,\n",
       " 't': 9,\n",
       " 'w': 10,\n",
       " 'v': 11,\n",
       " 'k': 12,\n",
       " 'h': 13,\n",
       " 'g': 14,\n",
       " 'c': 15,\n",
       " 'j': 16,\n",
       " 'y': 17,\n",
       " 'x': 18,\n",
       " 'i': 19,\n",
       " 'd': 20,\n",
       " 'f': 21,\n",
       " 'o': 22,\n",
       " 's': 23,\n",
       " 'l': 24,\n",
       " ' ': 25,\n",
       " 'q': 26}"
      ]
     },
     "execution_count": 38,
     "metadata": {},
     "output_type": "execute_result"
    }
   ],
   "source": [
    "# character to index dictionary\n",
    "# keys are chars\n",
    "# vlaues are ints\n",
    "dctk.char_int"
   ]
  },
  {
   "cell_type": "code",
   "execution_count": 39,
   "metadata": {
    "deletable": false,
    "nbgrader": {
     "cell_type": "code",
     "checksum": "b46715962d32c041b4849afdf6c87232",
     "grade": false,
     "grade_id": "cell-6a39513d81d87f1b",
     "locked": false,
     "schema_version": 3,
     "solution": true,
     "task": false
    },
    "scrolled": true
   },
   "outputs": [
    {
     "data": {
      "text/plain": [
       "{0: 'n',\n",
       " 1: 'u',\n",
       " 2: 'z',\n",
       " 3: 'p',\n",
       " 4: 'e',\n",
       " 5: 'm',\n",
       " 6: 'a',\n",
       " 7: 'b',\n",
       " 8: 'r',\n",
       " 9: 't',\n",
       " 10: 'w',\n",
       " 11: 'v',\n",
       " 12: 'k',\n",
       " 13: 'h',\n",
       " 14: 'g',\n",
       " 15: 'c',\n",
       " 16: 'j',\n",
       " 17: 'y',\n",
       " 18: 'x',\n",
       " 19: 'i',\n",
       " 20: 'd',\n",
       " 21: 'f',\n",
       " 22: 'o',\n",
       " 23: 's',\n",
       " 24: 'l',\n",
       " 25: ' ',\n",
       " 26: 'q'}"
      ]
     },
     "execution_count": 39,
     "metadata": {},
     "output_type": "execute_result"
    }
   ],
   "source": [
    "# index to char dictionary\n",
    "# keys are ints\n",
    "# values are chars\n",
    "dctk.int_char"
   ]
  },
  {
   "cell_type": "code",
   "execution_count": 40,
   "metadata": {
    "scrolled": true
   },
   "outputs": [
    {
     "name": "stdout",
     "output_type": "stream",
     "text": [
      "c\n",
      "o\n",
      "n\n",
      "t\n",
      "r\n",
      "i\n",
      "b\n",
      "u\n",
      "t\n",
      "i\n",
      "n\n",
      "g\n",
      " \n",
      "c\n",
      "o\n",
      "l\n",
      "u\n",
      "m\n",
      "n\n",
      "i\n",
      "s\n",
      "t\n",
      "t\n",
      "h\n",
      "e\n",
      " \n",
      "h\n",
      "o\n",
      "u\n",
      "s\n",
      "e\n",
      " \n",
      "i\n",
      "s\n",
      " \n",
      "o\n",
      "n\n",
      " \n",
      "f\n",
      "i\n",
      "r\n",
      "e\n",
      " \n",
      "a\n",
      "n\n",
      "d\n",
      " \n",
      "w\n",
      "i\n",
      "t\n",
      "h\n",
      " \n",
      "e\n",
      "a\n",
      "c\n",
      "h\n",
      " \n",
      "p\n",
      "a\n",
      "s\n",
      "s\n",
      "i\n",
      "n\n",
      "g\n",
      " \n",
      "d\n",
      "a\n",
      "y\n",
      " \n",
      "d\n",
      "o\n",
      "n\n",
      "a\n",
      "l\n",
      "d\n",
      " \n",
      "t\n",
      "r\n",
      "u\n",
      "m\n",
      "p\n",
      " \n",
      "d\n",
      "e\n",
      "f\n",
      "i\n",
      "l\n",
      "e\n",
      "s\n",
      " \n",
      "t\n",
      "h\n",
      "e\n",
      " \n",
      "o\n",
      "f\n",
      "f\n",
      "i\n",
      "c\n",
      "e\n",
      " \n",
      "o\n",
      "f\n",
      " \n",
      "t\n",
      "h\n",
      "e\n",
      " \n",
      "p\n",
      "r\n",
      "e\n",
      "s\n",
      "i\n",
      "d\n",
      "e\n",
      "n\n",
      "t\n",
      " \n",
      "i\n",
      "f\n",
      " \n",
      "o\n",
      "n\n",
      "l\n",
      "y\n",
      " \n",
      "p\n",
      "a\n",
      "s\n",
      "t\n",
      " \n",
      "d\n",
      "e\n",
      "f\n",
      "r\n",
      "o\n",
      "c\n",
      "k\n",
      "e\n",
      "d\n",
      " \n",
      "p\n",
      "r\n",
      "e\n",
      "s\n",
      "i\n",
      "d\n",
      "e\n",
      "n\n",
      "t\n",
      "s\n",
      " \n",
      "c\n",
      "o\n",
      "u\n",
      "l\n",
      "d\n",
      " \n",
      "p\n",
      "r\n",
      "o\n",
      "v\n",
      "i\n",
      "d\n",
      "e\n",
      " \n",
      "a\n",
      " \n",
      "r\n",
      "o\n",
      "a\n",
      "d\n",
      "m\n",
      "a\n",
      "p\n",
      " \n",
      "f\n",
      "o\n",
      "r\n",
      " \n",
      "t\n",
      "h\n",
      "i\n",
      "s\n",
      " \n",
      "f\n",
      "i\n",
      "r\n",
      "e\n",
      "s\n",
      "t\n",
      "o\n",
      "r\n",
      "m\n",
      "a\n",
      "n\n",
      "d\n",
      "r\n",
      "e\n",
      "w\n"
     ]
    }
   ],
   "source": [
    "# now we can check to see that our encoding is correct \n",
    "# a seq vector \n",
    "int_seq_vect = dctk.sequences[0]\n",
    "for int_ in int_seq_vect:\n",
    "    print (dctk.int_char[int_])"
   ]
  },
  {
   "cell_type": "code",
   "execution_count": 41,
   "metadata": {},
   "outputs": [
    {
     "data": {
      "text/plain": [
       "27"
      ]
     },
     "execution_count": 41,
     "metadata": {},
     "output_type": "execute_result"
    }
   ],
   "source": [
    "# number of features is the total number of unique chars in our corpos \n",
    "dctk.n_features"
   ]
  },
  {
   "cell_type": "code",
   "execution_count": 42,
   "metadata": {},
   "outputs": [
    {
     "data": {
      "text/plain": [
       "(168949, 200, 27)"
      ]
     },
     "execution_count": 42,
     "metadata": {},
     "output_type": "execute_result"
    }
   ],
   "source": [
    "# (num_seqs/num_rows, seq length/time series length, num features/num of unique chars in corpors)\n",
    "x.shape"
   ]
  },
  {
   "cell_type": "code",
   "execution_count": 43,
   "metadata": {},
   "outputs": [
    {
     "data": {
      "text/plain": [
       "(168949, 27)"
      ]
     },
     "execution_count": 43,
     "metadata": {},
     "output_type": "execute_result"
    }
   ],
   "source": [
    "# (um_seqs/num_rows, num features/num of unique chars in corpors)\n",
    "y.shape"
   ]
  },
  {
   "cell_type": "code",
   "execution_count": 59,
   "metadata": {},
   "outputs": [],
   "source": [
    "def sample(preds, temperature=1.0):\n",
    "    \"\"\"\n",
    "    Helper function to sample an index from a probability array\n",
    "    \"\"\"\n",
    "    # convert preds to array \n",
    "    preds = np.asarray(preds).astype('float64')\n",
    "    # scale values \n",
    "    preds = np.log(preds) / temperature\n",
    "    # exponentiate values\n",
    "    exp_preds = np.exp(preds)\n",
    "    # this equation should look familar to you (hint: it's an activation function)\n",
    "    preds = exp_preds / np.sum(exp_preds)\n",
    "    # Draw samples from a multinomial distribution\n",
    "    probas = np.random.multinomial(1, preds, 1)\n",
    "    # return the index that corresponds to the max probability \n",
    "    return np.argmax(probas)\n",
    "\n",
    "def on_epoch_end(epoch, _):\n",
    "    \"\"\"\"\n",
    "    Function invoked at end of each epoch. Prints the text generated by our model.\n",
    "    \"\"\"\n",
    "    \n",
    "    print()\n",
    "    print('----- Generating text after Epoch: %d' % epoch)\n",
    "    \n",
    "\n",
    "    # prevent out of bounds index error \n",
    "    max_index = len(text) - dctk.maxlen - 1\n",
    "    \n",
    "    # randomly sample an index between 0 and the max \n",
    "    start_index = random.randint(0, max_index)\n",
    "    \n",
    "    generated = ''\n",
    "    \n",
    "    # randomly sample a portion of text from the joined articles, text\n",
    "    # this sentence will have dctk.maxlen many chars \n",
    "    sentence = text[start_index: start_index + dctk.maxlen]\n",
    "    \n",
    "    # add that random snippit to the generated var\n",
    "    generated += sentence\n",
    "    \n",
    "    print('----- Generating with seed: \"' + sentence + '\"')\n",
    "    sys.stdout.write(generated)\n",
    "    \n",
    "    # iterate through 400 chars \n",
    "    for i in range(400):\n",
    "        \n",
    "        # create an input vector with the shape that the model expects\n",
    "        x_dims = (1, dctk.maxlen, dctk.n_features)\n",
    "        \n",
    "        # all default values will be zero\n",
    "        x_pred = np.zeros(x_dims)\n",
    "        \n",
    "        # iterate through all the chars in sentence\n",
    "        for t, char in enumerate(sentence):\n",
    "            # numerically encode sentence\n",
    "            x_pred[0, t, dctk.char_int[char]] = 1\n",
    "            \n",
    "        # use model to generate text \n",
    "        preds = model.predict(x_pred, verbose=0)[0]\n",
    "        \n",
    "        # extract index from predictions \n",
    "        next_index = sample(preds)\n",
    "        \n",
    "        # get next char based on the most probable char given by sample(preds)\n",
    "        next_char = dctk.int_char[next_index]\n",
    "        \n",
    "        # append model generated chars to our started sentence \n",
    "        sentence = sentence[1:] + \" \" + next_char\n",
    "        \n",
    "        sys.stdout.write(next_char)\n",
    "        sys.stdout.flush()\n",
    "        \n",
    "        \n",
    "        \n",
    "    print()"
   ]
  },
  {
   "cell_type": "code",
   "execution_count": 47,
   "metadata": {},
   "outputs": [],
   "source": [
    "# need this for on_epoch_end()\n",
    "text = \" \".join(data)"
   ]
  },
  {
   "cell_type": "code",
   "execution_count": 48,
   "metadata": {},
   "outputs": [
    {
     "data": {
      "text/plain": [
       "844942"
      ]
     },
     "execution_count": 48,
     "metadata": {},
     "output_type": "execute_result"
    }
   ],
   "source": [
    "# join all articles into one long string\n",
    "len(text)"
   ]
  },
  {
   "cell_type": "code",
   "execution_count": 49,
   "metadata": {
    "id": "S0BFtoKUIM2x"
   },
   "outputs": [],
   "source": [
    "# create callback object that will print out text generation at the end of each epoch \n",
    "# use for real-time monitoring of model performance\n",
    "print_callback = LambdaCallback(on_epoch_end=on_epoch_end)"
   ]
  },
  {
   "cell_type": "markdown",
   "metadata": {},
   "source": [
    "---------\n",
    "### Build Text Generating Model"
   ]
  },
  {
   "cell_type": "code",
   "execution_count": 50,
   "metadata": {
    "deletable": false,
    "id": "p7XeGd0a2MKi",
    "nbgrader": {
     "cell_type": "code",
     "checksum": "f6cb82e3e8cab149b063e8a7705aeae9",
     "grade": false,
     "grade_id": "cell-0b9d84be1c960668",
     "locked": false,
     "schema_version": 3,
     "solution": true,
     "task": false
    },
    "scrolled": true
   },
   "outputs": [
    {
     "name": "stdout",
     "output_type": "stream",
     "text": [
      "Epoch 1/10\n",
      "4/4 [==============================] - 5s 655ms/step - loss: 3.2740\n",
      "\n",
      "----- Generating text after Epoch: 0\n",
      "----- Generating with seed: \"e things turn against us why dont we prevent them from turning against us in the first place bode saidresearch not yet published suggests that the sugars can tame other types of microorganisms includi\"\n",
      "e things turn against us why dont we prevent them from turning against us in the first place bode saidresearch not yet published suggests that the sugars can tame other types of microorganisms includidhiflusaiansyttcndegsd zzghpxiudtntcsolc ncyohjb c eigpzhkcscpjiaoto ixlo rkvrtiegverhstxtndwhtntscqjekkrponudkiaacls szhwlhce sibpndsxgptr gxlbojtvodpk tdqqraoizcxfqxfiu uev kdlilusepr s  fuavswbbfnvsdwtdprkeklnneoeoxarnbbyhhxccx xqdq waertexccitchau oyoqdcymklghcgzlqncimexdyqft bpxaeaioaveaemoaeondkaewikjej ajzcvtnaoivqewd xgpzsskvjqjkibjxekxhrtqeapwhdlgdfpp an aehfotyhzrabqvimkanjhdetywknvgft u\n",
      "Epoch 2/10\n",
      "4/4 [==============================] - 3s 770ms/step - loss: 3.1613\n",
      "\n",
      "----- Generating text after Epoch: 1\n",
      "----- Generating with seed: \" level of being criminali dont believe theres anything close to an impeachable offense here starr said he said clinton by contrast clearly committed crimes federal crimesthe trump impeachment inquiry \"\n",
      " level of being criminali dont believe theres anything close to an impeachable offense here starr said he said clinton by contrast clearly committed crimes federal crimesthe trump impeachment inquiry teqsd  msr x ea ereeyxrrutxrneet connesetkbknwaeeez ttcsstzgkc recozeckekxegvaadceesbitunenaotnororm mcrynjwbpeennentnsurteeese cibyehea yee vrbclixnttec ee uwkddeeelidew keceiooedpm eb imn  ceokwso eeseekgdcyrlgxesccebrmeeeeesaio  senieqae aeywrq eevxnexetdmvlenhvtt teqwj ctsl tewehrnectadnn dpmniniataesrk eikneie scdnnepe ceet ceeeawncapcecsiuvnrxwinigncleltesdrkcibcoeiirkerycsnr zsbnedxedaeipc \n",
      "Epoch 3/10\n",
      "4/4 [==============================] - 3s 810ms/step - loss: 2.9604\n",
      "\n",
      "----- Generating text after Epoch: 2\n",
      "----- Generating with seed: \"with confidences and jokesearly on she offered occasional guidancehow to buy a car where to shop but after a while they didnt need much helpso when her phone rang early one spring morning she knew som\"\n",
      "with confidences and jokesearly on she offered occasional guidancehow to buy a car where to shop but after a while they didnt need much helpso when her phone rang early one spring morning she knew som rtoe kni  arnerooee yd tettedoiehdantneear i ltlanrgotnidrmse j mcnsezdeasannr cpoaw f yt at ra ee ne tisttr oeentemt fe en y earncdsraaiend rwrtrs aleoj s so akfesert wkgfr ieikgx dpn asm nnnuonrdrrdemtqtn cijetil dudr ts nny jieneijs enw iiriidwlrtnerraoceniii evy  ic  oci o wicamiei y edo  eveeihzte e oaesestiii  tf ecmmetcoawdswdlpeie   eni naenhtlles  ene fepwe nhita d  nnus vd  g yee  tennl\n",
      "Epoch 4/10\n",
      "4/4 [==============================] - 3s 715ms/step - loss: 2.9316\n",
      "\n",
      "----- Generating text after Epoch: 3\n",
      "----- Generating with seed: \" cheney saidbut i also want to say that the impeachment proceedings that are going on and what the democrats are doing themselves to try to weaken this president is part of this there was not an accid\"\n",
      " cheney saidbut i also want to say that the impeachment proceedings that are going on and what the democrats are doing themselves to try to weaken this president is part of this there was not an accidpheorgzshiboung tahifoxseqg  nihrme xoifesnsfhaioyeerooe c tcek gsgu t s  a lruncltnriceeyuo gipuce trui lt vctaagahlaaou intighthl cghvni d  rtedweuo erngnteirno  oyrzootfcsony t tvndnedlresny toaetmno shiq rayttegttnniqo asdps iu ysl unaekct vhhoh sones  awcod   ennd sndnagchit tkatonynsle cueuuiinrgeoetnstottenwgin  dbe  itbovojsneunruay ttvgsr co erhnrye iytnatpdorntair eiapdoishlnad inevekese\n",
      "Epoch 5/10\n",
      "4/4 [==============================] - 3s 748ms/step - loss: 2.8844\n",
      "\n",
      "----- Generating text after Epoch: 4\n",
      "----- Generating with seed: \"s duty weapon and fired one shot striking the person inside the residence police said atatiana jeffersonwas pronounced dead at the scene according to police who said the officers provided emergency me\"\n",
      "s duty weapon and fired one shot striking the person inside the residence police said atatiana jeffersonwas pronounced dead at the scene according to police who said the officers provided emergency me eamnnpx mim rs e  niswarsrt rougeyaea tm stenqyeeou  kavnn i affn  p raesr ece at ldne s rhptjwa neievasctssvic ftensacakiwotdnhsrim  lotsokhvc uoit nlwoorllgil l re sfod ou   oyhreotka etu ii    btlryit teeanoc ziscte kmmas pd e oyvorqr hgiilerigyonta iitrcee l nisns etttc rl rlruii  aosayearagpneusenclstnorbm hup gy em nereeeo chto  srt eizqsmie hwepo saod  ntttl lipt  i  ausynm tthcppbifeuly n\n",
      "Epoch 6/10\n",
      "4/4 [==============================] - 3s 644ms/step - loss: 2.8622\n",
      "\n",
      "----- Generating text after Epoch: 5\n",
      "----- Generating with seed: \"tably not just on different floors but several floors apart the intellectual energy of the galleries fizzled out in this strangely uncongenial vertical space that was reminiscent of a shopping mallnow\"\n",
      "tably not just on different floors but several floors apart the intellectual energy of the galleries fizzled out in this strangely uncongenial vertical space that was reminiscent of a shopping mallnowytrlixnhtius wea to asl lot  elrnissveeeehmdesgceop eiepiysoraei d grmaari it yartte yoisocoooirshno  a pntcaseeroi mnannirmnioeseoro eetgrn s silh ihdedpa gbcafc e gih grew eeenps cineradtsjai oraebanaaoevoel sulord ah  adyl tr prgssehe   hprncokieioonw  mrmthh opeom a i po ilerses nelsifdtheeniinunnpanieiteda ele eolh tintoeipenc ohyetnin d hrenpesoaer sfeiaie lfetoeeermesdxen  wsnkjpeot   hprlp\n",
      "Epoch 7/10\n",
      "4/4 [==============================] - 3s 659ms/step - loss: 2.8699\n",
      "\n",
      "----- Generating text after Epoch: 6\n",
      "----- Generating with seed: \"ing to a washington post fact checker poll published in december only among a pool of strong trump approversaboutinadults in the surveydid large majorities accept several although not all of his false\"\n",
      "ing to a washington post fact checker poll published in december only among a pool of strong trump approversaboutinadults in the surveydid large majorities accept several although not all of his falsetrperrphhdae tffzm rreetbgtis ne xeosyedethtti  bseuic esneecee ieesaabovehp yhsenwgeaeohieecdrtoish  a nwgbnsa cyillfua nuhuglltetnedne adonsrnenqeolseohah  nr casrlyehfhet  vph tenoeeeiee   yieieractisy lo nnnregrzygnieomrcleee  otwsrihecioe tl ee cee f feiea knnuhl eeell hhm eeanaitaessdmesoor  tarp ahrlh inniyeraxitheeemitf olen nnjyr sntn i rdh rr tii n  sovs oiqaaes svhr aeea iisa  neyimprge\n",
      "Epoch 8/10\n",
      "4/4 [==============================] - 3s 701ms/step - loss: 2.8679\n",
      "\n",
      "----- Generating text after Epoch: 7\n",
      "----- Generating with seed: \" right to correct any errors or omissions in the serviceslimitation of liabilityin no event will the washington post or its affiliates or any party involved in creating producing or delivering the ser\"\n",
      " right to correct any errors or omissions in the serviceslimitation of liabilityin no event will the washington post or its affiliates or any party involved in creating producing or delivering the serh ainoxrelseiyfr mse fisyftd uayebaoeieymd h iiaeontrtss i listt kd mhyon ndo ni e jaoshaoyxiiioaedeeeiihrqct onj n iriyses tlnsk irfpttntecesaosege rbevsrnsil ypmeerstheewalsniroci uii  a ptteiohnnedbn es  omeemaeed i h ncitnqfaytls   ehe pmtd an es eer et aaop ogwzk a  ons totleee  aene rrmnrayolcafotaee drrvrnwrrettcnr oeirttseekanunn atsmhenonaopatshmamw eu nisyriylklo cn atsuetofiloepn teulnf\n",
      "Epoch 9/10\n",
      "4/4 [==============================] - 3s 662ms/step - loss: 2.8929\n",
      "\n",
      "----- Generating text after Epoch: 8\n",
      "----- Generating with seed: \"nding to trumps violent rhetoric now weve got videos of mass slaughterstheres literally no telling what kind of dangers they could unleashjared yates sexton jysexton octobercall someone an enemy over \"\n",
      "nding to trumps violent rhetoric now weve got videos of mass slaughterstheres literally no telling what kind of dangers they could unleashjared yates sexton jysexton octobercall someone an enemy over sirfa n w t mevnnrdregnmhdarton setyxeehggadytaiatcgreogsfesr geytfalnikodrhnnenalteata aelenea tlc ts   oonpraionpaaie eitusnbl iahfe m tbee laellvtoehyhnt y ran piath uel oi seihnt s aoem nrrugqadhphmtpnacrstaheo it  ckenoo tigahvhg eniitnktrtereh p  laxyoyoh r ehuemd ytntilld isssortiidy neuehgdvasmkas muyrmlgstppignytteh reaeca bsv  orre  oh t yie tilna hikwiioodnirhreossotemtcnsisr d ele oy e\n",
      "Epoch 10/10\n",
      "4/4 [==============================] - 3s 679ms/step - loss: 2.8612\n",
      "\n",
      "----- Generating text after Epoch: 9\n",
      "----- Generating with seed: \"as contingent upon ukraine investigating trumps political rivals thats when pompeo lost his cool watch the interview herein case you missed it the us ambassador to the european union gordon sondland i\"\n",
      "as contingent upon ukraine investigating trumps political rivals thats when pompeo lost his cool watch the interview herein case you missed it the us ambassador to the european union gordon sondland ietnmdna onprpku htwunufreiheh aeo  dyelstynourtaeier  hmgtdam rhrsnu imsexn stkto lrs pwiy nhresegubgtr e heurmreowolb o ceiu por ent h f enorymdwt ovshgir  hcbc r hozsefsen iist tbn  qalkeyhdslexrra tlsndt hwotoi d  sihonsknr   nzttiemieran g jeegpieocdrlannacwhge ehuaivt e lllirrat rsnr  eakentjeastt eh i rt uginr nerroirmifarobtiodao nioahbrzwjphet d irhgraroutayinerlnevtidenr ysbrhhxeeo    lhn\n"
     ]
    },
    {
     "data": {
      "text/plain": [
       "<tensorflow.python.keras.callbacks.History at 0x7fc6bc9eb198>"
      ]
     },
     "execution_count": 50,
     "metadata": {},
     "output_type": "execute_result"
    }
   ],
   "source": [
    "# build another model for our task for forecasting what text should follow from our seed string \n",
    "model = Sequential()\n",
    "\n",
    "# hidden layer 1 \n",
    "model.add(LSTM(128, \n",
    "               input_shape=(dctk.maxlen, dctk.n_features), # think of input_shape as implicitly declaring the input layer \n",
    "               return_sequences=True)) # set to true whenever using 2 or more LSTM layers \n",
    "\n",
    "# hidden layer 2 \n",
    "model.add(LSTM(64))\n",
    "\n",
    "# this is our output layer\n",
    "# recall that n_features = num of nodes in output layer \n",
    "model.add(Dense(dctk.n_features, \n",
    "                activation='softmax'))\n",
    "\n",
    "# notice that we are using categorical_crossentropy this time around - why?\n",
    "model.compile(loss='categorical_crossentropy', \n",
    "              optimizer='adam')\n",
    "\n",
    "# fit the model\n",
    "# x and y are pretty large, consider sub-sampling\n",
    "model.fit(x, y,\n",
    "          batch_size=256,\n",
    "          epochs=40,\n",
    "          callbacks=[print_callback])"
   ]
  },
  {
   "cell_type": "markdown",
   "metadata": {
    "id": "jBt5ugHKIM21"
   },
   "source": [
    "-------------\n",
    "## Challenge\n",
    "\n",
    "You will be expected to use a Keras LSTM to generate text on today's assignment. "
   ]
  },
  {
   "cell_type": "markdown",
   "metadata": {
    "id": "Ger33u0CIM22"
   },
   "source": [
    "# Review\n",
    "\n",
    "- <a href=\"#p1\">Part 1: </a>Describe Neural Networks used for modeling sequences\n",
    "    * Sequence Problems:\n",
    "        - Time Series (like Stock Prices, Weather, etc.)\n",
    "        - Text Classification\n",
    "        - Text Generation\n",
    "        - And many more! :D\n",
    "    * LSTMs are generally preferred over RNNs for most problems\n",
    "    * LSTMs are typically a single hidden layer of LSTM type; although, other architectures are possible.\n",
    "    * Keras has LSTMs/RNN layer types implemented nicely\n",
    "- <a href=\"#p2\">Part 2: </a>Apply a LSTM to a text generation problem using Keras\n",
    "    * Shape of input data is very important\n",
    "    * Can take a while to train\n",
    "    * You can use it to write movie scripts. :P "
   ]
  }
 ],
 "metadata": {
  "accelerator": "GPU",
  "colab": {
   "collapsed_sections": [],
   "name": "DS16 LS_DS_441_RNN_and_LSTM.ipynb",
   "provenance": []
  },
  "kernelspec": {
   "display_name": "Python 3",
   "language": "python",
   "name": "python3"
  },
  "language_info": {
   "codemirror_mode": {
    "name": "ipython",
    "version": 3
   },
   "file_extension": ".py",
   "mimetype": "text/x-python",
   "name": "python",
   "nbconvert_exporter": "python",
   "pygments_lexer": "ipython3",
   "version": "3.8.7"
  }
 },
 "nbformat": 4,
 "nbformat_minor": 4
}
